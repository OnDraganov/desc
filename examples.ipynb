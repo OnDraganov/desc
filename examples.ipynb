{
 "cells": [
  {
   "cell_type": "code",
   "execution_count": 1,
   "metadata": {},
   "outputs": [],
   "source": [
    "import sys\n",
    "sys.path.insert(1,\"src/\") # path to the folder with the code; alternatively, you can move the jupyter notebook to the folder src\n",
    "import desc as ds\n",
    "\n",
    "import tabulate"
   ]
  },
  {
   "cell_type": "markdown",
   "metadata": {
    "heading_collapsed": true
   },
   "source": [
    "# Cohomology of wedge sum of spheres $S^2 \\vee S^1$"
   ]
  },
  {
   "cell_type": "markdown",
   "metadata": {
    "hidden": true
   },
   "source": [
    "We triangulate $S^2$ as a diamond on vertices $\\{1,2,3,4,5\\}$, and $S^1$ as a triangle $\\{4,5,6\\}$ (they share the vertex $4$). We call the face poset of this simplicial complex $\\Sigma$. We compute the injective resolution of a constant sheaf on $\\Sigma$, and then we compute the hypercohomology."
   ]
  },
  {
   "cell_type": "code",
   "execution_count": 5,
   "metadata": {
    "hidden": true
   },
   "outputs": [
    {
     "name": "stdout",
     "output_type": "stream",
     "text": [
      "The hypercohomology is: 1,1,1\n"
     ]
    },
    {
     "data": {
      "text/plain": [
       "{0: 1, 1: 1, 2: 1}"
      ]
     },
     "execution_count": 5,
     "metadata": {},
     "output_type": "execute_result"
    }
   ],
   "source": [
    "# We first definte the simplicial complex by giving a list of maximal simplices\n",
    "sigma = ds.SimplicialComplex([\n",
    "        (0,1,3), (0,1,4), (0,3,4),\n",
    "        (1,2,3), (1,2,4), (2,3,4),\n",
    "        (4,5), (4,6), (5,6)\n",
    "])\n",
    "\n",
    "# Create cochain complex, the injective resolution of the constant sheaf on Sigma\n",
    "cplx_sigma = ds.ChainComplex.injective_resolution_of_constant_sheaf(sigma)\n",
    "print(\"The hypercohomology is:\", cplx_sigma.str_hypercohomology())\n",
    "\n",
    "# The method hypercohomology returns a dictionary { degree : betti number }.\n",
    "# The method str_hypercohomology we used above returns an easy-to-read string.\n",
    "cplx_sigma.hypercohomology()"
   ]
  },
  {
   "cell_type": "code",
   "execution_count": 6,
   "metadata": {
    "hidden": true
   },
   "outputs": [
    {
     "name": "stdout",
     "output_type": "stream",
     "text": [
      "Injective resolution of k_Sigma:\n",
      "234^1 + 124^1 + 123^1 + 034^1 + 014^1 + 013^1 + 56^1 + 46^1 + 45^1 --0--> 34^1 + 24^1 + 23^1 + 14^1 + 13^1 + 12^1 + 04^1 + 03^1 + 01^1 + 6^1 + 5^1 + 4^2 --1--> 4^1 + 3^1 + 2^1 + 1^1 + 0^1\n"
     ]
    }
   ],
   "source": [
    "# To explore the injective resolution a bit more, we can print the (co)chain.\n",
    "# The notation is element^power, which says that in the given degree d,\n",
    "# there is power-many indecomposable injectives [element] in the decomposition of I^d.\n",
    "print(\"Injective resolution of k_Sigma:\")\n",
    "print(cplx_sigma.str_chain())"
   ]
  },
  {
   "cell_type": "code",
   "execution_count": 10,
   "metadata": {
    "hidden": true
   },
   "outputs": [
    {
     "name": "stdout",
     "output_type": "stream",
     "text": [
      "  eta^-1\n",
      "--------\n",
      "     234\n",
      "     124\n",
      "     123\n",
      "     034\n",
      "     014\n",
      "     013\n",
      "      56\n",
      "      46\n",
      "      45\n",
      "\n",
      "  eta^0  234    124    123    034    014    013    56    46    45\n",
      "-------  -----  -----  -----  -----  -----  -----  ----  ----  ----\n",
      "     34  1      -      -      1      -      -      -     -     -\n",
      "     24  1      1      -      -      -      -      -     -     -\n",
      "     23  1      -      1      -      -      -      -     -     -\n",
      "     14  -      1      -      -      1      -      -     -     -\n",
      "     13  -      -      1      -      -      1      -     -     -\n",
      "     12  -      1      1      -      -      -      -     -     -\n",
      "     04  -      -      -      1      1      -      -     -     -\n",
      "     03  -      -      -      1      -      1      -     -     -\n",
      "     01  -      -      -      -      1      1      -     -     -\n",
      "      6  -      -      -      -      -      -      1     1     -\n",
      "      5  -      -      -      -      -      -      1     -     1\n",
      "      4  1      -      -      -      -      -      -     1     -\n",
      "      4  -      -      -      -      -      -      -     1     1\n",
      "\n",
      "  eta^1  34    24    23    14    13    12    04    03    01    6    5    4    4\n",
      "-------  ----  ----  ----  ----  ----  ----  ----  ----  ----  ---  ---  ---  ---\n",
      "      4  1     1     -     1     -     -     1     -     -     -    -    -    -\n",
      "      3  1     -     1     -     1     -     -     1     -     -    -    -    -\n",
      "      2  -     1     1     -     -     1     -     -     -     -    -    -    -\n",
      "      1  -     -     -     1     1     1     -     -     1     -    -    -    -\n",
      "      0  -     -     -     -     -     -     1     1     1     -    -    -    -\n",
      "\n",
      "eta^2    4    3    2    1    0\n",
      "-------  ---  ---  ---  ---  ---\n",
      "\n"
     ]
    }
   ],
   "source": [
    "# For the full information, we can print all the labeled matrices.\n",
    "for degree, labeled_matrix in sorted(cplx_sigma.matrices.items()):\n",
    "    labeled_matrix.print_matrix(title=f\"eta^{degree}\", form=\"short\", zero_symbol=\"-\")\n",
    "    print()"
   ]
  },
  {
   "cell_type": "markdown",
   "metadata": {
    "heading_collapsed": true
   },
   "source": [
    "# The example from the paper (Section 7)"
   ]
  },
  {
   "cell_type": "markdown",
   "metadata": {
    "hidden": true
   },
   "source": [
    "We compute three different complexes of sheaves, each obtained via a triangulated (simplicial) map, $g$, $h$, and $l$, from $S^2 \\vee S^1$ and $D^2$ to $S^2$.\n",
    "\n",
    "Both maps $g$ and $h$ send $S^2$ identically to $S^2$. The first map, $g$, sends the circle to the point where it touches the sphere, and $h$ sends it to the equator. The third map we consider, $l$, from the closed disk to the sphere, is obtained by identifying all points along the boundary of the closed disk. See Figure 5 in the arXiv version of the paper (link in README)."
   ]
  },
  {
   "cell_type": "code",
   "execution_count": 2,
   "metadata": {
    "hidden": true
   },
   "outputs": [],
   "source": [
    "# We first define the posets as simplicial complexes by listing the maximal simplices.\n",
    "sigma = ds.SimplicialComplex([\n",
    "        (0,1,3), (0,1,4), (0,3,4),\n",
    "        (1,2,3), (1,2,4), (2,3,4),\n",
    "        (4,5), (4,6), (5,6)\n",
    "])\n",
    "lambd = ds.SimplicialComplex([\n",
    "            (0,1,3), (0,1,4), (0,3,4),\n",
    "            (1,2,3), (1,2,4), (2,3,4)\n",
    "])\n",
    "disk  = ds.SimplicialComplex([\n",
    "        (0,1,3), (0,3,4),\n",
    "        (1,2,3), (1,2,4), (2,3,4),\n",
    "        (1,4,5), (0,1,5), (0,5,6), (0,4,6)\n",
    "])\n",
    "\n",
    "# We define the maps between simplicial complexes by describing how the vertices are mapped.\n",
    "# Vertices not explicitely given are sent identically, e.g., the first map, g,\n",
    "# sends vertices as follows: {1:1, 2:2, 3:3, 4:4, 5:4, 6:4}\n",
    "map_g  = ds.SimplicialMap(sigma, lambd, {5:4, 6:4})\n",
    "map_h  = ds.SimplicialMap(sigma, lambd, {5:1, 6:3})\n",
    "map_l  = ds.SimplicialMap(disk,  lambd, {5:4, 6:4})\n",
    "\n",
    "# We compute injective resolutions of the constant sheaves on Sigma and the disk,\n",
    "# and push the (co)chains forward via the maps g,h,l.\n",
    "cplx_sigma  = ds.ChainComplex.injective_resolution_of_constant_sheaf(sigma)\n",
    "cplx_g_push = cplx_sigma.pushforward(map_g).minimize()\n",
    "cplx_h_push = cplx_sigma.pushforward(map_h).minimize()\n",
    "\n",
    "cplx_disk   = ds.ChainComplex.injective_resolution_of_constant_sheaf(disk)\n",
    "cplx_l_push = cplx_disk.pushforward(map_l).minimize()\n",
    "\n",
    "# Minimization of the complexes is currently not done by default, because we use\n",
    "# the alternative minimization process described in Section 5.6.3 of the paper:\n",
    "# we compute the pullback via the identity map. This procedure could unnecessarily\n",
    "# slow down computations with larger examples."
   ]
  },
  {
   "cell_type": "code",
   "execution_count": null,
   "metadata": {
    "hidden": true
   },
   "outputs": [],
   "source": [
    "# We can print the chains\n",
    "print(f\"k_sigma = \", cplx_sigma.str_chain())\n",
    "print()\n",
    "print(\"g_*(k_sigma) = \", cplx_g_push.str_chain())\n",
    "print()\n",
    "print(\"h_*(k_sigma) = \", cplx_h_push.str_chain())\n",
    "print()\n",
    "print()\n",
    "print(f\"k_disk = \", cplx_disk.str_chain())\n",
    "print()\n",
    "print(\"l_*(k_disk) = \", cplx_l_push.str_chain())"
   ]
  },
  {
   "cell_type": "code",
   "execution_count": 8,
   "metadata": {
    "hidden": true
   },
   "outputs": [
    {
     "name": "stdout",
     "output_type": "stream",
     "text": [
      "  Rg_* eta^0    234    124    123    034    014    013\n",
      "------------  -----  -----  -----  -----  -----  -----\n",
      "          34      1      0      0      1      0      0\n",
      "          24      1      1      0      0      0      0\n",
      "          23      1      0      1      0      0      0\n",
      "          14      0      1      0      0      1      0\n",
      "          13      0      0      1      0      0      1\n",
      "          12      0      1      1      0      0      0\n",
      "          04      0      0      0      1      1      0\n",
      "          03      0      0      0      1      0      1\n",
      "          01      0      0      0      0      1      1\n",
      "           4      0      0      0      0      0      0\n"
     ]
    }
   ],
   "source": [
    "# As an example, let us print the matrix Rg_* eta^0 [the simplices are ordered differently than in the paper]\n",
    "cplx_g_push.matrices[0].print_matrix(title=\"Rg_* eta^0\")"
   ]
  },
  {
   "cell_type": "markdown",
   "metadata": {
    "hidden": true
   },
   "source": [
    "## Discrete morse map and microsupport"
   ]
  },
  {
   "cell_type": "markdown",
   "metadata": {
    "hidden": true
   },
   "source": [
    "We define a map $f: S^2 \\rightarrow \\mathbb{R}$ and compute ranks of hypercohomology groups as in Figure 10 of the paper"
   ]
  },
  {
   "cell_type": "code",
   "execution_count": 16,
   "metadata": {
    "hidden": true
   },
   "outputs": [
    {
     "name": "stdout",
     "output_type": "stream",
     "text": [
      "+--------------------------+-------+-------+-------+-------+-------+-------+-------+-------+-------+-------+-------+\n",
      "| dim H^p(-)               | A     | B     | C     | D     | E     | F     | G     | H     | I     | J     | K     |\n",
      "+==========================+=======+=======+=======+=======+=======+=======+=======+=======+=======+=======+=======+\n",
      "| RiZ^! Rg_* k_Sigma       | 0,0,1 | 0,1,0 | ----- | ----- | ----- | ----- | ----- | ----- | ----- | ----- | 1,0,0 |\n",
      "+--------------------------+-------+-------+-------+-------+-------+-------+-------+-------+-------+-------+-------+\n",
      "| Ri<^! Rg_* k_Sigma       | 0,0,1 | 0,1,1 | 0,1,1 | 0,1,1 | 0,1,1 | 0,1,1 | 0,1,1 | 0,1,1 | 0,1,1 | 0,1,1 | 1,1,1 |\n",
      "+--------------------------+-------+-------+-------+-------+-------+-------+-------+-------+-------+-------+-------+\n",
      "| Ri>^* Rg_* k_Sigma       | 1,1,1 | 1,1,0 | 1,0,0 | 1,0,0 | 1,0,0 | 1,0,0 | 1,0,0 | 1,0,0 | 1,0,0 | 1,0,0 | 1,0,0 |\n",
      "+--------------------------+-------+-------+-------+-------+-------+-------+-------+-------+-------+-------+-------+\n",
      "| RiZ_! RiZ^* Rg_* k_Sigma | 1,0,0 | 0,1,0 | ----- | ----- | ----- | ----- | ----- | ----- | ----- | ----- | 0,0,1 |\n",
      "+--------------------------+-------+-------+-------+-------+-------+-------+-------+-------+-------+-------+-------+\n",
      "| Ri<*! Rg_* k_Sigma       | 1,0,0 | 1,1,0 | 1,1,0 | 1,1,0 | 1,1,0 | 1,1,0 | 1,1,0 | 1,1,0 | 1,1,0 | 1,1,0 | 1,1,1 |\n",
      "+--------------------------+-------+-------+-------+-------+-------+-------+-------+-------+-------+-------+-------+\n",
      "|                          |       |       |       |       |       |       |       |       |       |       |       |\n",
      "+--------------------------+-------+-------+-------+-------+-------+-------+-------+-------+-------+-------+-------+\n",
      "| RiZ^! Rh_* k_Sigma       | 0,0,1 | 0,2,0 | 0,1,0 | 0,1,0 | ----- | 1,0,0 | ----- | 1,0,0 | ----- | 1,0,0 | 1,0,0 |\n",
      "+--------------------------+-------+-------+-------+-------+-------+-------+-------+-------+-------+-------+-------+\n",
      "| Ri<^! Rh_* k_Sigma       | 0,0,1 | 0,2,1 | 0,3,1 | 0,4,1 | 0,4,1 | 0,3,1 | 0,3,1 | 0,2,1 | 0,2,1 | 0,1,1 | 1,1,1 |\n",
      "+--------------------------+-------+-------+-------+-------+-------+-------+-------+-------+-------+-------+-------+\n",
      "| Ri>^* Rh_* k_Sigma       | 1,1,1 | 1,1,0 | 2,0,0 | 3,0,0 | 4,0,0 | 4,0,0 | 3,0,0 | 3,0,0 | 2,0,0 | 2,0,0 | 1,0,0 |\n",
      "+--------------------------+-------+-------+-------+-------+-------+-------+-------+-------+-------+-------+-------+\n",
      "| RiZ_! RiZ^* Rh_* k_Sigma | 1,0,0 | ----- | 1,0,0 | 1,0,0 | ----- | 0,1,0 | ----- | 0,1,0 | ----- | 0,1,0 | 0,0,1 |\n",
      "+--------------------------+-------+-------+-------+-------+-------+-------+-------+-------+-------+-------+-------+\n",
      "| Ri<*! Rh_* k_Sigma       | 1,0,0 | 1,0,0 | 2,0,0 | 3,0,0 | 3,0,0 | 2,0,0 | 2,0,0 | 1,0,0 | 1,0,0 | 1,1,0 | 1,1,1 |\n",
      "+--------------------------+-------+-------+-------+-------+-------+-------+-------+-------+-------+-------+-------+\n",
      "|                          |       |       |       |       |       |       |       |       |       |       |       |\n",
      "+--------------------------+-------+-------+-------+-------+-------+-------+-------+-------+-------+-------+-------+\n",
      "| RiZ^! Rl_* k_disk        | 0,0,1 | 0,1,0 | ----- | ----- | ----- | ----- | ----- | ----- | ----- | ----- | 1,0,0 |\n",
      "+--------------------------+-------+-------+-------+-------+-------+-------+-------+-------+-------+-------+-------+\n",
      "| Ri<^! Rl_* k_disk        | 0,0,1 | ----- | ----- | ----- | ----- | ----- | ----- | ----- | ----- | ----- | 1,0,0 |\n",
      "+--------------------------+-------+-------+-------+-------+-------+-------+-------+-------+-------+-------+-------+\n",
      "| Ri>^* Rl_* k_disk        | 1,0,0 | 1,1,0 | 1,0,0 | 1,0,0 | 1,0,0 | 1,0,0 | 1,0,0 | 1,0,0 | 1,0,0 | 1,0,0 | 1,0,0 |\n",
      "+--------------------------+-------+-------+-------+-------+-------+-------+-------+-------+-------+-------+-------+\n",
      "| RiZ_! RiZ^* Rl_* k_disk  | 1,0,0 | 0,1,0 | ----- | ----- | ----- | ----- | ----- | ----- | ----- | ----- | 0,0,1 |\n",
      "+--------------------------+-------+-------+-------+-------+-------+-------+-------+-------+-------+-------+-------+\n",
      "| Ri<*! Rl_* k_disk        | 1,0,0 | 1,1,0 | 1,1,0 | 1,1,0 | 1,1,0 | 1,1,0 | 1,1,0 | 1,1,0 | 1,1,0 | 1,1,0 | 1,0,0 |\n",
      "+--------------------------+-------+-------+-------+-------+-------+-------+-------+-------+-------+-------+-------+\n"
     ]
    }
   ],
   "source": [
    "# define filtration of lambd\n",
    "morse = {\n",
    "    'A' : {(2,)},\n",
    "    'B' : {(4,),(2,4)},\n",
    "    'C' : {(3,),(2,3)},\n",
    "    'D' : {(1,),(1,2)},\n",
    "    'E' : {(0,),(0,3)},\n",
    "    'F' : {(3,4),(2,3,4)},\n",
    "    'G' : {(0,4),(0,3,4)},\n",
    "    'H' : {(1,4),(1,2,4)},\n",
    "    'I' : {(0,1),(0,1,4)},\n",
    "    'J' : {(1,3),(1,2,3)},\n",
    "    'K' : {(0,1,3)}\n",
    "}\n",
    "\n",
    "\n",
    "\n",
    "# Construct the table\n",
    "\n",
    "table = []\n",
    "\n",
    "for name, orig_cplx_name, cplx in (('g', 'k_Sigma', cplx_g_push), ('h', 'k_Sigma', cplx_h_push), ('l', 'k_disk', cplx_l_push)):\n",
    "\n",
    "    row = [f\"RiZ^! R{name}_* {orig_cplx_name}\"]\n",
    "    for lvl, Z in sorted(morse.items()):\n",
    "        row.append( cplx.proper_pullback(Z).str_hypercohomology() )\n",
    "    table.append(row)\n",
    "\n",
    "    row = [f\"Ri<^! R{name}_* {orig_cplx_name}\"]\n",
    "    for lvl in sorted(morse):\n",
    "        Z = set().union(*[morse[lab] for lab in morse if lab<=lvl])\n",
    "        row.append( cplx.proper_pullback(Z).str_hypercohomology() )\n",
    "    table.append(row)\n",
    "\n",
    "    row = [f\"Ri>^* R{name}_* {orig_cplx_name}\"]\n",
    "    for lvl in sorted(morse):\n",
    "        Z = set().union(*[morse[lab] for lab in morse if lab>=lvl])\n",
    "        row.append( cplx.pullback( ds.PosetMapInclusion(Z, cplx.poset)).str_hypercohomology() )\n",
    "    table.append(row)\n",
    "\n",
    "    # =========\n",
    "\n",
    "    row = [f\"RiZ_! RiZ^* R{name}_* {orig_cplx_name}\"]\n",
    "    for lvl, Z in sorted(morse.items()):\n",
    "        row.append( cplx.pullback( ds.PosetMapInclusion(Z, cplx.poset)).proper_pushforward(cplx.poset).str_hypercohomology() )\n",
    "    table.append(row)\n",
    "\n",
    "    row = [f\"Ri<*! R{name}_* {orig_cplx_name}\"]\n",
    "    for lvl in sorted(morse):\n",
    "        Z = set().union(*[morse[lab] for lab in morse if lab<=lvl])\n",
    "        row.append( cplx.pullback( ds.PosetMapInclusion(Z, cplx.poset)).str_hypercohomology() )\n",
    "    table.append(row)\n",
    "    \n",
    "    table.append([])\n",
    "    \n",
    "for row in table:\n",
    "    for i in range(len(row)):\n",
    "        if row[i]  == '0,0,0':\n",
    "            row[i] = '-----'\n",
    "\n",
    "print(tabulate.tabulate(\n",
    "    table[:-1], #cut-off the last empty row\n",
    "    headers=[\"dim H^p(-)\"]+sorted(morse.keys()),\n",
    "    tablefmt='grid'))"
   ]
  },
  {
   "cell_type": "markdown",
   "metadata": {
    "heading_collapsed": true
   },
   "source": [
    "# Hopf fibration"
   ]
  },
  {
   "cell_type": "markdown",
   "metadata": {
    "hidden": true
   },
   "source": [
    "We triangulate $S^3$, $S^2$, and the Hopf fibration $\\textrm{hopf}:S^3\\rightarrow S^2$ as described in a paper by Madahar and Arkaria called _A minimal triangulation of the Hopf map and its application_. Then we compute and analyse the pushforward of the constant sheaf on $S^3$ via the $\\textrm{hopf}$ map, and observe that it is *not* decomposible as a direct sum of smaller (co)chain complexes, but that it _almost_ splits. This example explicitly illustrates that the Decomposition Theorem for IC sheaves fails for real manifolds."
   ]
  },
  {
   "cell_type": "code",
   "execution_count": 2,
   "metadata": {
    "hidden": true
   },
   "outputs": [],
   "source": [
    "# Defining the triangulations as described in \"A minimal triangulation of the Hopf map and its application\"\n",
    "\n",
    "dV = {\n",
    "    ('a0','a2','b0'), ('a0','b0','b1'), ('b0', 'b1', 'c1'), ('b1','c1','c2'), ('a2','c1','c2'), ('a0','a2','c2'),\n",
    "    ('a0','b1','d0'), ('b1','c2','d0'), ('a0','c2','d0')\n",
    "}\n",
    "V = { tuple(sorted( trg+('d1',) )) for trg in dV}\n",
    "\n",
    "dW = {\n",
    "    ('a0','a1','b1'), ('a1','a2','b1'), ('a2','b1','b2'), ('a2','b0','b2'),\n",
    "    ('b1','b2','c2'), ('b0','b2','c2'), ('b0','c0','c2'), ('b0','c0','c1'),\n",
    "    ('a0','c0','c2'), ('a0','c0','c1'), ('a0','a1','c1'), ('a1','a2','c1'),\n",
    "    \n",
    "    ('a2','b0','d1'), ('b0','c1','d1'), ('a2','c1','d1'),\n",
    "    ('a0','b1','d0'), ('b1','c2','d0'), ('a0','c2','d0')\n",
    "}\n",
    "W = { tuple(sorted( trg+('d2',) )) for trg in dW}\n",
    "\n",
    "M = {\n",
    "    ('a0','b0','c0','c1'), ('a0','b0','b1','c1'), ('a0','a1','b1','c1'),\n",
    "    ('a1','a2','b1','c1'), ('a2','b1','c1','c2'), ('a2','b1','b2','c2'),\n",
    "    ('a2','b0','b2','c2'), ('a0','a2','b0','c2'), ('a0','b0','c0','c2')\n",
    "}\n",
    "\n",
    "S3 = ds.SimplicialComplex(M|V|W)\n",
    "S2 = ds.SimplicialComplex({('a','b','c'), ('a','b','d'),('a','c','d'),('b','c','d')})\n",
    "hopf = ds.SimplicialMap(S3, S2, { ch : ch[0] for ch in {v[0] for v in S3 if len(v)==1}})"
   ]
  },
  {
   "cell_type": "code",
   "execution_count": 3,
   "metadata": {
    "hidden": true
   },
   "outputs": [],
   "source": [
    "# Compute the injective resolution of the constant sheaf on S^3, and push it forward via the hopf map.\n",
    "k_S3 = ds.ChainComplex.injective_resolution_of_constant_sheaf(S3)\n",
    "hopf_push = k_S3.pushforward(hopf).minimize()"
   ]
  },
  {
   "cell_type": "code",
   "execution_count": 11,
   "metadata": {
    "hidden": true
   },
   "outputs": [
    {
     "name": "stdout",
     "output_type": "stream",
     "text": [
      "deg:0    bcd    acd    abd    abc\n",
      "-------  -----  -----  -----  -----\n",
      "bcd      -      -      -      -\n",
      "acd      -      -      -      -\n",
      "abd      -      -      -      -\n",
      "abc      -      -      -      -\n",
      "cd       1      1      -      -\n",
      "bd       1      -      1      -\n",
      "bc       1      -      -      1\n",
      "ad       -      1      1      -\n",
      "ac       -      1      -      1\n",
      "ab       -      -      1      1\n",
      "\n",
      "deg:1    bcd    acd    abd    abc    cd    bd    bc    ad    ac    ab\n",
      "-------  -----  -----  -----  -----  ----  ----  ----  ----  ----  ----\n",
      "cd       1      1      -      -      -     -     -     -     -     -\n",
      "bd       1      -      1      -      -     -     -     -     -     -\n",
      "bc       1      -      -      1      -     -     -     -     -     -\n",
      "ad       -      1      1      -      -     -     -     -     -     -\n",
      "ac       -      1      -      1      -     -     -     -     -     -\n",
      "ab       -      -      1      1      -     -     -     -     -     -\n",
      "d        1      -      -      -      1     1     -     1     -     -\n",
      "c        -      -      -      -      1     -     1     -     1     -\n",
      "b        -      -      -      -      -     1     1     -     -     1\n",
      "a        -      -      -      -      -     -     -     1     1     1\n",
      "\n",
      "deg:2    cd    bd    bc    ad    ac    ab    d    c    b    a\n",
      "-------  ----  ----  ----  ----  ----  ----  ---  ---  ---  ---\n",
      "d        1     1     -     1     -     -     -    -    -    -\n",
      "c        1     -     1     -     1     -     -    -    -    -\n",
      "b        -     1     1     -     -     1     -    -    -    -\n",
      "a        -     -     -     1     1     1     -    -    -    -\n",
      "\n"
     ]
    }
   ],
   "source": [
    "# We print all matrices, except for the first and the last which are always zero matrices.\n",
    "for degree, labeled_matrix in sorted(hopf_push.matrices.items())[1:-1]:\n",
    "    labeled_matrix.print_matrix(title=f\"deg:{degree}\", form=\"short\", zero_symbol=\"-\")\n",
    "    print()"
   ]
  },
  {
   "cell_type": "markdown",
   "metadata": {
    "hidden": true
   },
   "source": [
    "We see that we can almost split the matrices in blocks, which would represent a split in a direct sum of two (co)chain complexes. The only obstruction is the 1 at position $(d, bcd)$ in degree 1. It is not difficult to see that by allowed row/column operations, we can change the position of this 1 to any place in the lower-left 4x4 block, but we can never get rid of it, because all allowed operations will preserve the parity of 1s in that block. "
   ]
  }
 ],
 "metadata": {
  "kernelspec": {
   "display_name": "pyenv 3.10",
   "language": "python",
   "name": "3.10"
  },
  "language_info": {
   "codemirror_mode": {
    "name": "ipython",
    "version": 3
   },
   "file_extension": ".py",
   "mimetype": "text/x-python",
   "name": "python",
   "nbconvert_exporter": "python",
   "pygments_lexer": "ipython3",
   "version": "3.10.6"
  },
  "varInspector": {
   "cols": {
    "lenName": 16,
    "lenType": 16,
    "lenVar": 40
   },
   "kernels_config": {
    "python": {
     "delete_cmd_postfix": "",
     "delete_cmd_prefix": "del ",
     "library": "var_list.py",
     "varRefreshCmd": "print(var_dic_list())"
    },
    "r": {
     "delete_cmd_postfix": ") ",
     "delete_cmd_prefix": "rm(",
     "library": "var_list.r",
     "varRefreshCmd": "cat(var_dic_list()) "
    }
   },
   "types_to_exclude": [
    "module",
    "function",
    "builtin_function_or_method",
    "instance",
    "_Feature"
   ],
   "window_display": false
  }
 },
 "nbformat": 4,
 "nbformat_minor": 4
}
